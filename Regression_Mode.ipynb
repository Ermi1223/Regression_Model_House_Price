{
  "nbformat": 4,
  "nbformat_minor": 0,
  "metadata": {
    "colab": {
      "provenance": [],
      "authorship_tag": "ABX9TyOvM8pigYuN8GlBSAyThHWA",
      "include_colab_link": true
    },
    "kernelspec": {
      "name": "python3",
      "display_name": "Python 3"
    },
    "language_info": {
      "name": "python"
    }
  },
  "cells": [
    {
      "cell_type": "markdown",
      "metadata": {
        "id": "view-in-github",
        "colab_type": "text"
      },
      "source": [
        "<a href=\"https://colab.research.google.com/github/Ermi1223/Regression_Model_House_Price/blob/main/Regression_Mode.ipynb\" target=\"_parent\"><img src=\"https://colab.research.google.com/assets/colab-badge.svg\" alt=\"Open In Colab\"/></a>"
      ]
    },
    {
      "cell_type": "markdown",
      "source": [
        "**Housing Price Prediction using Regression Models**"
      ],
      "metadata": {
        "id": "zexsPZB5QREU"
      }
    },
    {
      "cell_type": "markdown",
      "source": [
        "**Introduction**\n",
        "\n",
        "In this notebook, i will build and evaluate regression models to predict housing prices using the california Housing Dataset. i will:\n",
        "\n",
        "1. Load and preprocess the dataset.\n",
        "\n",
        "2. Train a Linear Regression and Random Forest Regressor.\n",
        "\n",
        "3. Tune hyperparameters for Random Forest using Optuna.\n",
        "\n",
        "4. Compare model performance using RMSE and R² score.\n",
        "\n"
      ],
      "metadata": {
        "id": "i6R6RDSDFjrY"
      }
    },
    {
      "cell_type": "markdown",
      "source": [
        "**Step 1: Install Necessary Libraries**\n",
        "\n",
        "📌 I Install **Optuna**\n",
        "\n",
        " Why Use Optuna?\n",
        "1. Automates Hyperparameter Tuning: Instead of manually searching for the best parameters, Optuna automates the process.\n",
        "\n",
        "2. Efficient Search: Uses smarter techniques (like TPE) rather than brute-force methods like Grid Search.\n",
        "\n",
        "3. Visualization Tools: Provides tools to analyze and compare different hyperparameter trials.\n",
        "\n",
        "4. Pruning Unpromising Trials: Stops bad trials early to save computational resources.\n"
      ],
      "metadata": {
        "id": "4xQemUtMCiVi"
      }
    },
    {
      "cell_type": "code",
      "source": [
        "pip install optuna\n"
      ],
      "metadata": {
        "colab": {
          "base_uri": "https://localhost:8080/"
        },
        "id": "O0kHN0cCCzJ2",
        "outputId": "c4fd157c-f979-4e43-cdb2-867c816c77d9"
      },
      "execution_count": null,
      "outputs": [
        {
          "output_type": "stream",
          "name": "stdout",
          "text": [
            "Collecting optuna\n",
            "  Downloading optuna-4.2.1-py3-none-any.whl.metadata (17 kB)\n",
            "Collecting alembic>=1.5.0 (from optuna)\n",
            "  Downloading alembic-1.15.1-py3-none-any.whl.metadata (7.2 kB)\n",
            "Collecting colorlog (from optuna)\n",
            "  Downloading colorlog-6.9.0-py3-none-any.whl.metadata (10 kB)\n",
            "Requirement already satisfied: numpy in /usr/local/lib/python3.11/dist-packages (from optuna) (2.0.2)\n",
            "Requirement already satisfied: packaging>=20.0 in /usr/local/lib/python3.11/dist-packages (from optuna) (24.2)\n",
            "Requirement already satisfied: sqlalchemy>=1.4.2 in /usr/local/lib/python3.11/dist-packages (from optuna) (2.0.39)\n",
            "Requirement already satisfied: tqdm in /usr/local/lib/python3.11/dist-packages (from optuna) (4.67.1)\n",
            "Requirement already satisfied: PyYAML in /usr/local/lib/python3.11/dist-packages (from optuna) (6.0.2)\n",
            "Requirement already satisfied: Mako in /usr/lib/python3/dist-packages (from alembic>=1.5.0->optuna) (1.1.3)\n",
            "Requirement already satisfied: typing-extensions>=4.12 in /usr/local/lib/python3.11/dist-packages (from alembic>=1.5.0->optuna) (4.12.2)\n",
            "Requirement already satisfied: greenlet!=0.4.17 in /usr/local/lib/python3.11/dist-packages (from sqlalchemy>=1.4.2->optuna) (3.1.1)\n",
            "Downloading optuna-4.2.1-py3-none-any.whl (383 kB)\n",
            "\u001b[2K   \u001b[90m━━━━━━━━━━━━━━━━━━━━━━━━━━━━━━━━━━━━━━━━\u001b[0m \u001b[32m383.6/383.6 kB\u001b[0m \u001b[31m8.7 MB/s\u001b[0m eta \u001b[36m0:00:00\u001b[0m\n",
            "\u001b[?25hDownloading alembic-1.15.1-py3-none-any.whl (231 kB)\n",
            "\u001b[2K   \u001b[90m━━━━━━━━━━━━━━━━━━━━━━━━━━━━━━━━━━━━━━━━\u001b[0m \u001b[32m231.8/231.8 kB\u001b[0m \u001b[31m15.2 MB/s\u001b[0m eta \u001b[36m0:00:00\u001b[0m\n",
            "\u001b[?25hDownloading colorlog-6.9.0-py3-none-any.whl (11 kB)\n",
            "Installing collected packages: colorlog, alembic, optuna\n",
            "Successfully installed alembic-1.15.1 colorlog-6.9.0 optuna-4.2.1\n"
          ]
        }
      ]
    },
    {
      "cell_type": "markdown",
      "source": [
        "**Step 2: Import Necessary Libraries**\n",
        "\n",
        "📌 I import essential libraries for data processing, model training, hyperparameter tuning, and evaluation."
      ],
      "metadata": {
        "id": "pFxi3u0xGIhG"
      }
    },
    {
      "cell_type": "code",
      "source": [
        "# Import necessary libraries\n",
        "import numpy as np\n",
        "import pandas as pd\n",
        "import optuna\n",
        "import joblib\n",
        "from sklearn.model_selection import train_test_split\n",
        "from sklearn.preprocessing import StandardScaler\n",
        "from sklearn.linear_model import LinearRegression\n",
        "from sklearn.ensemble import RandomForestRegressor\n",
        "from sklearn.metrics import mean_squared_error, r2_score\n",
        "from sklearn.datasets import fetch_california_housing\n",
        "import matplotlib.pyplot as plt\n"
      ],
      "metadata": {
        "id": "irirNlUtCijW"
      },
      "execution_count": null,
      "outputs": []
    },
    {
      "cell_type": "markdown",
      "source": [
        "**Step 3: Load the Dataset**\n",
        "\n",
        "📌 I use the fetch_california_housing() dataset from Scikit-learn, which contains information about housing prices in California.\n",
        "\n",
        "🔹 Features in the dataset:\n",
        "\n",
        "1. MedInc - Median income in the area\n",
        "\n",
        "2. HouseAge - Average age of houses\n",
        "\n",
        "3. AveRooms - Average number of rooms per dwelling\n",
        "\n",
        "4. AveBedrms - Average number of bedrooms per dwelling\n",
        "\n",
        "5. Population - Population in the area\n",
        "\n",
        "6. AveOccup - Average household occupancy\n",
        "\n",
        "7. Latitude - Latitude of the area\n",
        "\n",
        "8. Longitude - Longitude of the area"
      ],
      "metadata": {
        "id": "y4GDxEUqC6dh"
      }
    },
    {
      "cell_type": "code",
      "source": [
        "# Step 3: Load the dataset\n",
        "data = fetch_california_housing()\n",
        "X = data.data\n",
        "y = data.target\n"
      ],
      "metadata": {
        "id": "p94gTPYeC6mW"
      },
      "execution_count": null,
      "outputs": []
    },
    {
      "cell_type": "markdown",
      "source": [
        "**Step 4: Split the Dataset**\n",
        "\n",
        "📌 I split the dataset into 80% training data and 20% testing data."
      ],
      "metadata": {
        "id": "HUQwd3CSC72Z"
      }
    },
    {
      "cell_type": "code",
      "source": [
        "# Step 4: Split the data into training and testing sets (80% training, 20% testing)\n",
        "X_train, X_test, y_train, y_test = train_test_split(X, y, test_size=0.2, random_state=42)"
      ],
      "metadata": {
        "id": "VtPs3jXVC8Kj"
      },
      "execution_count": null,
      "outputs": []
    },
    {
      "cell_type": "markdown",
      "source": [
        "**Step 5: Feature Scaling**\n",
        "\n",
        "📌 I standardize the dataset using StandardScaler() to improve model performance."
      ],
      "metadata": {
        "id": "ah-ZTtW4DBGY"
      }
    },
    {
      "cell_type": "code",
      "source": [
        "# Step 5: Feature scaling (Standardizing the data for better model performance)\n",
        "scaler = StandardScaler()\n",
        "X_train_scaled = scaler.fit_transform(X_train)\n",
        "X_test_scaled = scaler.transform(X_test)\n"
      ],
      "metadata": {
        "id": "5clap7gLDBRe"
      },
      "execution_count": null,
      "outputs": []
    },
    {
      "cell_type": "markdown",
      "source": [
        "**Step 6: Train Regression Models**\n",
        "\n",
        "**6.1 Linear Regression**\n",
        "\n",
        "📌 I train a simple linear regression model to establish a baseline."
      ],
      "metadata": {
        "id": "C-xK0RXNDRXe"
      }
    },
    {
      "cell_type": "code",
      "source": [
        "# Step 6: Train models\n",
        "\n",
        "# 6.1 Linear Regression Model\n",
        "lin_reg = LinearRegression()\n",
        "lin_reg.fit(X_train_scaled, y_train)\n",
        "y_pred_lr = lin_reg.predict(X_test_scaled)"
      ],
      "metadata": {
        "id": "Dacq0b9hDRgi"
      },
      "execution_count": null,
      "outputs": []
    },
    {
      "cell_type": "markdown",
      "source": [
        "**6.2 Random Forest (Baseline)**\n",
        "\n",
        "📌 I train a Random Forest Regressor as a more robust alternative."
      ],
      "metadata": {
        "id": "pzrZ7m36HXFP"
      }
    },
    {
      "cell_type": "code",
      "source": [
        "# 6.2 Random Forest Model (Baseline)\n",
        "rf = RandomForestRegressor(random_state=42)\n",
        "rf.fit(X_train, y_train)\n",
        "y_pred_rf = rf.predict(X_test)"
      ],
      "metadata": {
        "id": "7C5-8clFH1YF"
      },
      "execution_count": null,
      "outputs": []
    },
    {
      "cell_type": "markdown",
      "source": [
        "**Step 7: Hyperparameter Tuning with Optuna**\n",
        "\n",
        "📌 I optimize the Random Forest model using Optuna to find the best hyperparameters for improved performance.\n",
        "\n",
        "**7.1 Define Objective Function**\n",
        "\n",
        "📌 The objective function tests different hyperparameter values to minimize RMSE."
      ],
      "metadata": {
        "id": "qL8QT5K5Ddx6"
      }
    },
    {
      "cell_type": "markdown",
      "source": [],
      "metadata": {
        "id": "Z0C8lCk2Ijwx"
      }
    },
    {
      "cell_type": "code",
      "source": [
        "# Step 7: Hyperparameter tuning using Optuna for Random Forest\n",
        "def objective(trial):\n",
        "    n_estimators = trial.suggest_int('n_estimators', 50, 200)\n",
        "    max_depth = trial.suggest_int('max_depth', 10, 20)\n",
        "    min_samples_split = trial.suggest_int('min_samples_split', 2, 10)\n",
        "\n",
        "    rf = RandomForestRegressor(n_estimators=n_estimators,\n",
        "                               max_depth=max_depth,\n",
        "                               min_samples_split=min_samples_split,\n",
        "                               random_state=42)\n",
        "    rf.fit(X_train_scaled, y_train)\n",
        "    y_pred = rf.predict(X_test_scaled)\n",
        "    rmse = np.sqrt(mean_squared_error(y_test, y_pred))\n",
        "    return rmse"
      ],
      "metadata": {
        "id": "_XjlMHulIkqo"
      },
      "execution_count": null,
      "outputs": []
    },
    {
      "cell_type": "markdown",
      "source": [
        "**7.1 Run Hyperparameter Optimization**\n",
        "\n",
        "📌 I run 50 trials to find the best model parameters."
      ],
      "metadata": {
        "id": "FEqVdDEDIzjO"
      }
    },
    {
      "cell_type": "code",
      "source": [
        "# Optimize hyperparameters using Optuna\n",
        "study = optuna.create_study(direction='minimize')\n",
        "study.optimize(objective, n_trials=50)"
      ],
      "metadata": {
        "id": "xPePEE1WJFV_"
      },
      "execution_count": null,
      "outputs": []
    },
    {
      "cell_type": "markdown",
      "source": [
        "**7.3 Train the Best Model**\n",
        "\n",
        "📌 I extract the best hyperparameters and train the optimized model."
      ],
      "metadata": {
        "id": "xrGVx0ziJRE0"
      }
    },
    {
      "cell_type": "code",
      "source": [
        "# Get best hyperparameters and train the best model\n",
        "best_params = study.best_params\n",
        "best_rf = RandomForestRegressor(n_estimators=best_params['n_estimators'],\n",
        "                                max_depth=best_params['max_depth'],\n",
        "                                min_samples_split=best_params['min_samples_split'],\n",
        "                                random_state=42)\n",
        "best_rf.fit(X_train_scaled, y_train)\n",
        "y_pred_best_rf = best_rf.predict(X_test_scaled)"
      ],
      "metadata": {
        "colab": {
          "base_uri": "https://localhost:8080/"
        },
        "id": "j6XW_mmDDeAf",
        "outputId": "d8924102-b714-4d46-9f18-04d099afba3b"
      },
      "execution_count": null,
      "outputs": [
        {
          "output_type": "stream",
          "name": "stderr",
          "text": [
            "[I 2025-03-22 08:53:02,996] A new study created in memory with name: no-name-66f4422f-9092-4785-affa-0c7e68fed69d\n",
            "[I 2025-03-22 08:53:34,529] Trial 0 finished with value: 0.5062528551117113 and parameters: {'n_estimators': 148, 'max_depth': 17, 'min_samples_split': 4}. Best is trial 0 with value: 0.5062528551117113.\n",
            "[I 2025-03-22 08:53:51,070] Trial 1 finished with value: 0.5440290541483724 and parameters: {'n_estimators': 152, 'max_depth': 10, 'min_samples_split': 8}. Best is trial 0 with value: 0.5062528551117113.\n",
            "[I 2025-03-22 08:54:06,243] Trial 2 finished with value: 0.5106371392468211 and parameters: {'n_estimators': 106, 'max_depth': 15, 'min_samples_split': 5}. Best is trial 0 with value: 0.5062528551117113.\n",
            "[I 2025-03-22 08:54:19,900] Trial 3 finished with value: 0.5316333080529153 and parameters: {'n_estimators': 119, 'max_depth': 11, 'min_samples_split': 8}. Best is trial 0 with value: 0.5062528551117113.\n",
            "[I 2025-03-22 08:54:33,377] Trial 4 finished with value: 0.5309232950305888 and parameters: {'n_estimators': 117, 'max_depth': 11, 'min_samples_split': 4}. Best is trial 0 with value: 0.5062528551117113.\n",
            "[I 2025-03-22 08:54:42,271] Trial 5 finished with value: 0.5448468625736382 and parameters: {'n_estimators': 82, 'max_depth': 10, 'min_samples_split': 6}. Best is trial 0 with value: 0.5062528551117113.\n",
            "[I 2025-03-22 08:54:58,699] Trial 6 finished with value: 0.509413271719106 and parameters: {'n_estimators': 104, 'max_depth': 18, 'min_samples_split': 10}. Best is trial 0 with value: 0.5062528551117113.\n",
            "[I 2025-03-22 08:55:16,929] Trial 7 finished with value: 0.5112132503004341 and parameters: {'n_estimators': 130, 'max_depth': 15, 'min_samples_split': 8}. Best is trial 0 with value: 0.5062528551117113.\n",
            "[I 2025-03-22 08:55:24,305] Trial 8 finished with value: 0.5466203679952253 and parameters: {'n_estimators': 69, 'max_depth': 10, 'min_samples_split': 10}. Best is trial 0 with value: 0.5062528551117113.\n",
            "[I 2025-03-22 08:55:47,701] Trial 9 finished with value: 0.5188358157190442 and parameters: {'n_estimators': 181, 'max_depth': 13, 'min_samples_split': 10}. Best is trial 0 with value: 0.5062528551117113.\n",
            "[I 2025-03-22 08:56:22,801] Trial 10 finished with value: 0.5044841750221551 and parameters: {'n_estimators': 200, 'max_depth': 20, 'min_samples_split': 2}. Best is trial 10 with value: 0.5044841750221551.\n",
            "[I 2025-03-22 08:56:59,448] Trial 11 finished with value: 0.5048952297622779 and parameters: {'n_estimators': 193, 'max_depth': 19, 'min_samples_split': 2}. Best is trial 10 with value: 0.5044841750221551.\n",
            "[I 2025-03-22 08:57:38,277] Trial 12 finished with value: 0.5045975356368262 and parameters: {'n_estimators': 195, 'max_depth': 20, 'min_samples_split': 2}. Best is trial 10 with value: 0.5044841750221551.\n",
            "[I 2025-03-22 08:58:14,662] Trial 13 finished with value: 0.5044841750221551 and parameters: {'n_estimators': 200, 'max_depth': 20, 'min_samples_split': 2}. Best is trial 10 with value: 0.5044841750221551.\n",
            "[I 2025-03-22 08:58:43,682] Trial 14 finished with value: 0.5050447873214035 and parameters: {'n_estimators': 169, 'max_depth': 20, 'min_samples_split': 3}. Best is trial 10 with value: 0.5044841750221551.\n",
            "[I 2025-03-22 08:59:10,415] Trial 15 finished with value: 0.5066757519395441 and parameters: {'n_estimators': 166, 'max_depth': 17, 'min_samples_split': 2}. Best is trial 10 with value: 0.5044841750221551.\n",
            "[I 2025-03-22 08:59:41,320] Trial 16 finished with value: 0.5053371922259263 and parameters: {'n_estimators': 197, 'max_depth': 18, 'min_samples_split': 4}. Best is trial 10 with value: 0.5044841750221551.\n",
            "[I 2025-03-22 09:00:10,689] Trial 17 finished with value: 0.5050413573250419 and parameters: {'n_estimators': 173, 'max_depth': 20, 'min_samples_split': 3}. Best is trial 10 with value: 0.5044841750221551.\n",
            "[I 2025-03-22 09:00:32,058] Trial 18 finished with value: 0.5078564227242736 and parameters: {'n_estimators': 148, 'max_depth': 16, 'min_samples_split': 6}. Best is trial 10 with value: 0.5044841750221551.\n",
            "[I 2025-03-22 09:00:41,323] Trial 19 finished with value: 0.5073392873397489 and parameters: {'n_estimators': 55, 'max_depth': 19, 'min_samples_split': 3}. Best is trial 10 with value: 0.5044841750221551.\n",
            "[I 2025-03-22 09:01:06,405] Trial 20 finished with value: 0.5126259322663728 and parameters: {'n_estimators': 182, 'max_depth': 14, 'min_samples_split': 5}. Best is trial 10 with value: 0.5044841750221551.\n",
            "[I 2025-03-22 09:01:41,196] Trial 21 finished with value: 0.5044925226184884 and parameters: {'n_estimators': 199, 'max_depth': 20, 'min_samples_split': 2}. Best is trial 10 with value: 0.5044841750221551.\n",
            "[I 2025-03-22 09:02:15,383] Trial 22 finished with value: 0.5047461033129425 and parameters: {'n_estimators': 200, 'max_depth': 19, 'min_samples_split': 2}. Best is trial 10 with value: 0.5044841750221551.\n",
            "[I 2025-03-22 09:02:44,065] Trial 23 finished with value: 0.5057035686001959 and parameters: {'n_estimators': 178, 'max_depth': 18, 'min_samples_split': 3}. Best is trial 10 with value: 0.5044841750221551.\n",
            "[I 2025-03-22 09:03:15,377] Trial 24 finished with value: 0.5051676217757914 and parameters: {'n_estimators': 182, 'max_depth': 20, 'min_samples_split': 2}. Best is trial 10 with value: 0.5044841750221551.\n",
            "[I 2025-03-22 09:03:41,599] Trial 25 finished with value: 0.5052478677942757 and parameters: {'n_estimators': 158, 'max_depth': 19, 'min_samples_split': 3}. Best is trial 10 with value: 0.5044841750221551.\n",
            "[I 2025-03-22 09:04:02,871] Trial 26 finished with value: 0.507287535555265 and parameters: {'n_estimators': 139, 'max_depth': 17, 'min_samples_split': 5}. Best is trial 10 with value: 0.5044841750221551.\n",
            "[I 2025-03-22 09:04:34,117] Trial 27 finished with value: 0.5050299386578989 and parameters: {'n_estimators': 189, 'max_depth': 20, 'min_samples_split': 4}. Best is trial 10 with value: 0.5044841750221551.\n",
            "[I 2025-03-22 09:04:58,825] Trial 28 finished with value: 0.5067334339996183 and parameters: {'n_estimators': 162, 'max_depth': 18, 'min_samples_split': 7}. Best is trial 10 with value: 0.5044841750221551.\n",
            "[I 2025-03-22 09:05:26,850] Trial 29 finished with value: 0.5075097178845948 and parameters: {'n_estimators': 187, 'max_depth': 16, 'min_samples_split': 4}. Best is trial 10 with value: 0.5044841750221551.\n",
            "[I 2025-03-22 09:05:58,929] Trial 30 finished with value: 0.5057708155618306 and parameters: {'n_estimators': 200, 'max_depth': 17, 'min_samples_split': 2}. Best is trial 10 with value: 0.5044841750221551.\n",
            "[I 2025-03-22 09:06:32,248] Trial 31 finished with value: 0.5045306759346574 and parameters: {'n_estimators': 191, 'max_depth': 20, 'min_samples_split': 2}. Best is trial 10 with value: 0.5044841750221551.\n",
            "[I 2025-03-22 09:07:03,554] Trial 32 finished with value: 0.504828739041169 and parameters: {'n_estimators': 188, 'max_depth': 19, 'min_samples_split': 3}. Best is trial 10 with value: 0.5044841750221551.\n",
            "[I 2025-03-22 09:07:33,583] Trial 33 finished with value: 0.5049114218921567 and parameters: {'n_estimators': 174, 'max_depth': 20, 'min_samples_split': 2}. Best is trial 10 with value: 0.5044841750221551.\n",
            "[I 2025-03-22 09:07:59,698] Trial 34 finished with value: 0.5050637882360426 and parameters: {'n_estimators': 154, 'max_depth': 19, 'min_samples_split': 3}. Best is trial 10 with value: 0.5044841750221551.\n",
            "[I 2025-03-22 09:08:33,364] Trial 35 finished with value: 0.5047940619026537 and parameters: {'n_estimators': 188, 'max_depth': 20, 'min_samples_split': 2}. Best is trial 10 with value: 0.5044841750221551.\n",
            "[I 2025-03-22 09:09:02,948] Trial 36 finished with value: 0.5074057448780367 and parameters: {'n_estimators': 200, 'max_depth': 18, 'min_samples_split': 9}. Best is trial 10 with value: 0.5044841750221551.\n",
            "[I 2025-03-22 09:09:14,512] Trial 37 finished with value: 0.5226856050792357 and parameters: {'n_estimators': 93, 'max_depth': 12, 'min_samples_split': 4}. Best is trial 10 with value: 0.5044841750221551.\n",
            "[I 2025-03-22 09:09:36,118] Trial 38 finished with value: 0.5082843565567071 and parameters: {'n_estimators': 144, 'max_depth': 16, 'min_samples_split': 5}. Best is trial 10 with value: 0.5044841750221551.\n",
            "[I 2025-03-22 09:10:03,551] Trial 39 finished with value: 0.5051033676833618 and parameters: {'n_estimators': 167, 'max_depth': 19, 'min_samples_split': 3}. Best is trial 10 with value: 0.5044841750221551.\n",
            "[I 2025-03-22 09:10:25,196] Trial 40 finished with value: 0.5057077391270907 and parameters: {'n_estimators': 129, 'max_depth': 18, 'min_samples_split': 2}. Best is trial 10 with value: 0.5044841750221551.\n",
            "[I 2025-03-22 09:10:58,516] Trial 41 finished with value: 0.5046060706093901 and parameters: {'n_estimators': 194, 'max_depth': 20, 'min_samples_split': 2}. Best is trial 10 with value: 0.5044841750221551.\n",
            "[I 2025-03-22 09:11:32,074] Trial 42 finished with value: 0.504493965530893 and parameters: {'n_estimators': 192, 'max_depth': 20, 'min_samples_split': 2}. Best is trial 10 with value: 0.5044841750221551.\n",
            "[I 2025-03-22 09:12:01,376] Trial 43 finished with value: 0.5051690833334843 and parameters: {'n_estimators': 179, 'max_depth': 19, 'min_samples_split': 3}. Best is trial 10 with value: 0.5044841750221551.\n",
            "[I 2025-03-22 09:12:34,608] Trial 44 finished with value: 0.5046494323623595 and parameters: {'n_estimators': 190, 'max_depth': 20, 'min_samples_split': 2}. Best is trial 10 with value: 0.5044841750221551.\n",
            "[I 2025-03-22 09:12:54,356] Trial 45 finished with value: 0.5067869364809862 and parameters: {'n_estimators': 115, 'max_depth': 19, 'min_samples_split': 2}. Best is trial 10 with value: 0.5044841750221551.\n",
            "[I 2025-03-22 09:13:24,275] Trial 46 finished with value: 0.5054043768304414 and parameters: {'n_estimators': 184, 'max_depth': 20, 'min_samples_split': 4}. Best is trial 10 with value: 0.5044841750221551.\n",
            "[I 2025-03-22 09:13:52,851] Trial 47 finished with value: 0.5050469854695407 and parameters: {'n_estimators': 172, 'max_depth': 20, 'min_samples_split': 3}. Best is trial 10 with value: 0.5044841750221551.\n",
            "[I 2025-03-22 09:14:20,333] Trial 48 finished with value: 0.5117902998009821 and parameters: {'n_estimators': 194, 'max_depth': 14, 'min_samples_split': 2}. Best is trial 10 with value: 0.5044841750221551.\n",
            "[I 2025-03-22 09:14:47,841] Trial 49 finished with value: 0.5061527345075654 and parameters: {'n_estimators': 176, 'max_depth': 18, 'min_samples_split': 6}. Best is trial 10 with value: 0.5044841750221551.\n"
          ]
        }
      ]
    },
    {
      "cell_type": "markdown",
      "source": [
        "**Step 8: Evaluate Models**\n",
        "\n",
        "📌 I use RMSE (Root Mean Squared Error) and R² score to evaluate model performance."
      ],
      "metadata": {
        "id": "oWYgLWwNJP6M"
      }
    },
    {
      "cell_type": "code",
      "source": [
        "def evaluate_model(model_name, y_true, y_pred):\n",
        "    rmse = np.sqrt(mean_squared_error(y_true, y_pred))\n",
        "    r2 = r2_score(y_true, y_pred)\n",
        "    print(f\"{model_name} - RMSE: {rmse:.2f}, R²: {r2:.2f}\")\n",
        "\n",
        "# Evaluate all models\n",
        "evaluate_model(\"Linear Regression\", y_test, y_pred_lr)\n",
        "evaluate_model(\"Random Forest (Baseline)\", y_test, y_pred_rf)\n",
        "evaluate_model(\"Random Forest (Tuned)\", y_test, y_pred_best_rf)\n"
      ],
      "metadata": {
        "colab": {
          "base_uri": "https://localhost:8080/"
        },
        "id": "dN6Qygx6JhNr",
        "outputId": "ffe886d2-7ddb-4f40-c775-676f149b5e53"
      },
      "execution_count": null,
      "outputs": [
        {
          "output_type": "stream",
          "name": "stdout",
          "text": [
            "Linear Regression - RMSE: 0.75, R²: 0.58\n",
            "Random Forest (Baseline) - RMSE: 0.51, R²: 0.81\n",
            "Random Forest (Tuned) - RMSE: 0.50, R²: 0.81\n"
          ]
        }
      ]
    },
    {
      "cell_type": "markdown",
      "source": [
        "**Step 9: Save and Download the Best Model**\n",
        "\n",
        "📌 I save the best Random Forest model using joblib for future use."
      ],
      "metadata": {
        "id": "m8UIIC3KJDEr"
      }
    },
    {
      "cell_type": "code",
      "source": [
        "joblib.dump(best_rf, 'best_random_forest_model.pkl')\n"
      ],
      "metadata": {
        "colab": {
          "base_uri": "https://localhost:8080/"
        },
        "id": "1SJFJkVkJxde",
        "outputId": "a775a97e-413b-43b4-e433-69e3adf62288"
      },
      "execution_count": null,
      "outputs": [
        {
          "output_type": "execute_result",
          "data": {
            "text/plain": [
              "['best_random_forest_model.pkl']"
            ]
          },
          "metadata": {},
          "execution_count": 10
        }
      ]
    },
    {
      "cell_type": "code",
      "source": [
        "from google.colab import files\n",
        "files.download('best_random_forest_model.pkl')\n"
      ],
      "metadata": {
        "colab": {
          "base_uri": "https://localhost:8080/",
          "height": 34
        },
        "id": "2DoXtfvZPPmo",
        "outputId": "52f51d09-c151-4eb3-e353-c4dab684a207"
      },
      "execution_count": null,
      "outputs": [
        {
          "output_type": "display_data",
          "data": {
            "text/plain": [
              "<IPython.core.display.Javascript object>"
            ],
            "application/javascript": [
              "\n",
              "    async function download(id, filename, size) {\n",
              "      if (!google.colab.kernel.accessAllowed) {\n",
              "        return;\n",
              "      }\n",
              "      const div = document.createElement('div');\n",
              "      const label = document.createElement('label');\n",
              "      label.textContent = `Downloading \"${filename}\": `;\n",
              "      div.appendChild(label);\n",
              "      const progress = document.createElement('progress');\n",
              "      progress.max = size;\n",
              "      div.appendChild(progress);\n",
              "      document.body.appendChild(div);\n",
              "\n",
              "      const buffers = [];\n",
              "      let downloaded = 0;\n",
              "\n",
              "      const channel = await google.colab.kernel.comms.open(id);\n",
              "      // Send a message to notify the kernel that we're ready.\n",
              "      channel.send({})\n",
              "\n",
              "      for await (const message of channel.messages) {\n",
              "        // Send a message to notify the kernel that we're ready.\n",
              "        channel.send({})\n",
              "        if (message.buffers) {\n",
              "          for (const buffer of message.buffers) {\n",
              "            buffers.push(buffer);\n",
              "            downloaded += buffer.byteLength;\n",
              "            progress.value = downloaded;\n",
              "          }\n",
              "        }\n",
              "      }\n",
              "      const blob = new Blob(buffers, {type: 'application/binary'});\n",
              "      const a = document.createElement('a');\n",
              "      a.href = window.URL.createObjectURL(blob);\n",
              "      a.download = filename;\n",
              "      div.appendChild(a);\n",
              "      a.click();\n",
              "      div.remove();\n",
              "    }\n",
              "  "
            ]
          },
          "metadata": {}
        },
        {
          "output_type": "display_data",
          "data": {
            "text/plain": [
              "<IPython.core.display.Javascript object>"
            ],
            "application/javascript": [
              "download(\"download_fa147899-e424-49a1-b368-89c18068326b\", \"best_random_forest_model.pkl\", 238144849)"
            ]
          },
          "metadata": {}
        }
      ]
    },
    {
      "cell_type": "markdown",
      "source": [
        "**Step 10: Feature Importance Visualization**\n",
        "\n",
        "📌 I plot the feature importance of the tuned Random Forest model."
      ],
      "metadata": {
        "id": "vyZalrNIJtAL"
      }
    },
    {
      "cell_type": "code",
      "source": [
        "feature_importances = best_rf.feature_importances_\n",
        "plt.figure(figsize=(10, 6))\n",
        "plt.bar(data.feature_names, feature_importances, color='skyblue')\n",
        "plt.xlabel(\"Features\")\n",
        "plt.ylabel(\"Importance\")\n",
        "plt.title(\"Feature Importance - Tuned Random Forest\")\n",
        "plt.xticks(rotation=45)\n",
        "plt.show()\n"
      ],
      "metadata": {
        "colab": {
          "base_uri": "https://localhost:8080/",
          "height": 491
        },
        "id": "PbyRD99tJ-Qe",
        "outputId": "1a1384f1-c290-4add-84c2-ef569d786596"
      },
      "execution_count": null,
      "outputs": [
        {
          "output_type": "display_data",
          "data": {
            "text/plain": [
              "<Figure size 1000x600 with 1 Axes>"
            ],
            "image/png": "[encoded data removed]"
          },
          "metadata": {}
        }
      ]
    }
  ]
}